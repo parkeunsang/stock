{
 "cells": [
  {
   "cell_type": "code",
   "execution_count": 1,
   "metadata": {},
   "outputs": [],
   "source": [
    "import FinanceDataReader as fdr\n",
    "import pandas as pd\n",
    "import numpy as np"
   ]
  },
  {
   "cell_type": "code",
   "execution_count": 2,
   "metadata": {},
   "outputs": [],
   "source": [
    "from keras.models import Sequential\n",
    "from keras.layers import LSTM\n",
    "from keras.layers import Dense"
   ]
  },
  {
   "cell_type": "code",
   "execution_count": 3,
   "metadata": {},
   "outputs": [],
   "source": [
    "def prepro(df, colname):\n",
    "    seqLen = 50\n",
    "    seqLength = seqLen + 1\n",
    "    result = []\n",
    "    for idx in range(len(df)-seqLength):\n",
    "        result.append(df[colname][idx:idx+seqLength]) # window is 50\n",
    "\n",
    "    normedData = []\n",
    "    for window in result:\n",
    "        normedWindow = [((float(p)/float(window[0]))-1) for p in window]\n",
    "        normedData.append(normedWindow)\n",
    "\n",
    "\n",
    "    result = np.array(normedData)\n",
    "    return(result)"
   ]
  },
  {
   "cell_type": "code",
   "execution_count": 4,
   "metadata": {},
   "outputs": [],
   "source": [
    "def splitTT(result):\n",
    "    row = int(round(result.shape[0]*0.9))\n",
    "    train = result[:row,:]\n",
    "    np.random.shuffle(train)\n",
    "\n",
    "\n",
    "    xTrain = train[:,:-1]\n",
    "    xTrain = np.reshape(xTrain, (xTrain.shape[0], xTrain.shape[1],1))\n",
    "    yTrain = train[:,-1]\n",
    "\n",
    "    xTest = result[row:,:-1]\n",
    "    xTest = np.reshape(xTest, (xTest.shape[0], xTest.shape[1],1))\n",
    "    yTest = result[row:,-1]\n",
    "    \n",
    "    return(xTrain, yTrain, xTest, yTest)"
   ]
  },
  {
   "cell_type": "markdown",
   "metadata": {},
   "source": [
    "### modeling_close"
   ]
  },
  {
   "cell_type": "code",
   "execution_count": 5,
   "metadata": {},
   "outputs": [],
   "source": [
    "df = fdr.DataReader('005930', '2010')\n",
    "result = prepro(df,\"Close\")"
   ]
  },
  {
   "cell_type": "code",
   "execution_count": 7,
   "metadata": {},
   "outputs": [],
   "source": [
    "xTrain, yTrain, xTest, yTest = splitTT(result)"
   ]
  },
  {
   "cell_type": "code",
   "execution_count": 8,
   "metadata": {},
   "outputs": [],
   "source": [
    "model = Sequential()\n",
    "model.add(LSTM(50,return_sequences=True, input_shape = (50,1)))\n",
    "model.add(LSTM(64, return_sequences = False))\n",
    "model.add(Dense(1,activation = 'linear'))\n",
    "model.compile(loss='mse',optimizer ='rmsprop')"
   ]
  },
  {
   "cell_type": "code",
   "execution_count": 9,
   "metadata": {},
   "outputs": [
    {
     "name": "stdout",
     "output_type": "stream",
     "text": [
      "Epoch 1/7\n",
      "120/120 [==============================] - 4s 30ms/step - loss: 0.0016\n",
      "Epoch 2/7\n",
      "120/120 [==============================] - 3s 28ms/step - loss: 7.2125e-04\n",
      "Epoch 3/7\n",
      "120/120 [==============================] - 3s 28ms/step - loss: 5.2367e-04\n",
      "Epoch 4/7\n",
      "120/120 [==============================] - 3s 28ms/step - loss: 4.0641e-04\n",
      "Epoch 5/7\n",
      "120/120 [==============================] - 3s 28ms/step - loss: 3.6582e-04\n",
      "Epoch 6/7\n",
      "120/120 [==============================] - 3s 28ms/step - loss: 3.5453e-04\n",
      "Epoch 7/7\n",
      "120/120 [==============================] - 3s 27ms/step - loss: 3.4756e-04\n"
     ]
    },
    {
     "data": {
      "text/plain": [
       "<tensorflow.python.keras.callbacks.History at 0x7f377c206190>"
      ]
     },
     "execution_count": 9,
     "metadata": {},
     "output_type": "execute_result"
    }
   ],
   "source": [
    "model.fit(xTrain,yTrain, batch_size = 20, epochs=7)"
   ]
  },
  {
   "cell_type": "code",
   "execution_count": 10,
   "metadata": {},
   "outputs": [],
   "source": [
    "pred = model.predict(xTest)"
   ]
  },
  {
   "cell_type": "code",
   "execution_count": 19,
   "metadata": {},
   "outputs": [
    {
     "data": {
      "text/plain": [
       "array([[ 0.19205542],\n",
       "       [ 0.18001032],\n",
       "       [ 0.22546673],\n",
       "       [ 0.20383276],\n",
       "       [ 0.21662202],\n",
       "       [ 0.2529594 ],\n",
       "       [ 0.22225906],\n",
       "       [ 0.18023126],\n",
       "       [ 0.13181852],\n",
       "       [ 0.09867743],\n",
       "       [ 0.11100939],\n",
       "       [ 0.10965684],\n",
       "       [ 0.10978271],\n",
       "       [ 0.12286977],\n",
       "       [ 0.08343884],\n",
       "       [ 0.03225053],\n",
       "       [ 0.03490267],\n",
       "       [ 0.02149698],\n",
       "       [ 0.00845221],\n",
       "       [ 0.02205819],\n",
       "       [ 0.03379657],\n",
       "       [ 0.06573294],\n",
       "       [ 0.05637897],\n",
       "       [ 0.06914709],\n",
       "       [ 0.12769854],\n",
       "       [ 0.1464598 ],\n",
       "       [ 0.15103371],\n",
       "       [ 0.16778207],\n",
       "       [ 0.16515832],\n",
       "       [ 0.1472785 ],\n",
       "       [ 0.1294954 ],\n",
       "       [ 0.11772042],\n",
       "       [ 0.09558976],\n",
       "       [ 0.10893132],\n",
       "       [ 0.14386278],\n",
       "       [ 0.11794356],\n",
       "       [ 0.0876091 ],\n",
       "       [ 0.09464428],\n",
       "       [ 0.10464734],\n",
       "       [ 0.10620494],\n",
       "       [ 0.11691165],\n",
       "       [ 0.15586482],\n",
       "       [ 0.18754748],\n",
       "       [ 0.19730002],\n",
       "       [ 0.17901093],\n",
       "       [ 0.1357916 ],\n",
       "       [ 0.16337301],\n",
       "       [ 0.15913093],\n",
       "       [ 0.18911608],\n",
       "       [ 0.18628664],\n",
       "       [ 0.21872626],\n",
       "       [ 0.16482905],\n",
       "       [ 0.13105445],\n",
       "       [ 0.13378657],\n",
       "       [ 0.07659031],\n",
       "       [ 0.06760532],\n",
       "       [ 0.08265834],\n",
       "       [ 0.14467642],\n",
       "       [ 0.17520168],\n",
       "       [ 0.19241208],\n",
       "       [ 0.17140505],\n",
       "       [ 0.16009408],\n",
       "       [ 0.15733054],\n",
       "       [ 0.18997009],\n",
       "       [ 0.21702656],\n",
       "       [ 0.23711902],\n",
       "       [ 0.24160103],\n",
       "       [ 0.2186873 ],\n",
       "       [ 0.22952333],\n",
       "       [ 0.20239457],\n",
       "       [ 0.16749121],\n",
       "       [ 0.11361555],\n",
       "       [ 0.13055843],\n",
       "       [ 0.07013541],\n",
       "       [ 0.03300388],\n",
       "       [ 0.00074098],\n",
       "       [-0.01843807],\n",
       "       [-0.00712677],\n",
       "       [ 0.03352725],\n",
       "       [ 0.03702293],\n",
       "       [ 0.02243967],\n",
       "       [-0.00799696],\n",
       "       [-0.00348592],\n",
       "       [-0.06965582],\n",
       "       [-0.07802399],\n",
       "       [-0.08338906],\n",
       "       [-0.10806948],\n",
       "       [-0.1375858 ],\n",
       "       [-0.17241499],\n",
       "       [-0.23335314],\n",
       "       [-0.21280791],\n",
       "       [-0.2801897 ],\n",
       "       [-0.20778242],\n",
       "       [-0.18829533],\n",
       "       [-0.19019294],\n",
       "       [-0.2017065 ],\n",
       "       [-0.2165179 ],\n",
       "       [-0.22975475],\n",
       "       [-0.24839893],\n",
       "       [-0.23969853],\n",
       "       [-0.22007611],\n",
       "       [-0.16467363],\n",
       "       [-0.15634683],\n",
       "       [-0.14670512],\n",
       "       [-0.12291327],\n",
       "       [-0.13298517],\n",
       "       [-0.17388497],\n",
       "       [-0.16843681],\n",
       "       [-0.19145337],\n",
       "       [-0.1416209 ],\n",
       "       [-0.15749186],\n",
       "       [-0.17137128],\n",
       "       [-0.16817656],\n",
       "       [-0.1718956 ],\n",
       "       [-0.19460407],\n",
       "       [-0.18181603],\n",
       "       [-0.15548123],\n",
       "       [-0.16307566],\n",
       "       [-0.18537131],\n",
       "       [-0.16005243],\n",
       "       [-0.13369851],\n",
       "       [-0.14953846],\n",
       "       [-0.13620493],\n",
       "       [-0.13561432],\n",
       "       [-0.09586761],\n",
       "       [-0.12083638],\n",
       "       [-0.12900242],\n",
       "       [-0.14261042],\n",
       "       [-0.12388483],\n",
       "       [-0.11126889],\n",
       "       [-0.07290746],\n",
       "       [-0.10142877],\n",
       "       [-0.05350561],\n",
       "       [-0.02157922],\n",
       "       [ 0.00759505],\n",
       "       [ 0.03849024],\n",
       "       [ 0.07957996],\n",
       "       [ 0.13123839],\n",
       "       [ 0.20573966],\n",
       "       [ 0.21131662],\n",
       "       [ 0.29060403],\n",
       "       [ 0.18917814],\n",
       "       [ 0.1344674 ],\n",
       "       [ 0.17070623],\n",
       "       [ 0.1562213 ],\n",
       "       [ 0.14449292],\n",
       "       [ 0.10632292],\n",
       "       [ 0.10341592],\n",
       "       [ 0.13176526],\n",
       "       [ 0.12226357],\n",
       "       [ 0.08375726],\n",
       "       [ 0.07540268],\n",
       "       [ 0.07712042],\n",
       "       [ 0.05551212],\n",
       "       [ 0.08468091],\n",
       "       [ 0.0815075 ],\n",
       "       [ 0.09781948],\n",
       "       [ 0.07593651],\n",
       "       [ 0.03584202],\n",
       "       [ 0.05796091],\n",
       "       [ 0.08331928],\n",
       "       [ 0.08417038],\n",
       "       [ 0.11201677],\n",
       "       [ 0.08762027],\n",
       "       [ 0.07248738],\n",
       "       [ 0.06383882],\n",
       "       [ 0.06424525],\n",
       "       [ 0.1120403 ],\n",
       "       [ 0.10274868],\n",
       "       [ 0.13008302],\n",
       "       [ 0.10947036],\n",
       "       [ 0.13393208],\n",
       "       [ 0.14049612],\n",
       "       [ 0.14938712],\n",
       "       [ 0.14766556],\n",
       "       [ 0.14013152],\n",
       "       [ 0.12131114],\n",
       "       [ 0.11615956],\n",
       "       [ 0.182128  ],\n",
       "       [ 0.18627515],\n",
       "       [ 0.21650621],\n",
       "       [ 0.19245811],\n",
       "       [ 0.16333339],\n",
       "       [ 0.16119996],\n",
       "       [ 0.14027168],\n",
       "       [ 0.15639207],\n",
       "       [ 0.1323551 ],\n",
       "       [ 0.13492878],\n",
       "       [ 0.07693937],\n",
       "       [ 0.08946301],\n",
       "       [ 0.06495365],\n",
       "       [ 0.06455888],\n",
       "       [ 0.06192339],\n",
       "       [ 0.05196055],\n",
       "       [ 0.02901481],\n",
       "       [ 0.08238233],\n",
       "       [ 0.13656782],\n",
       "       [ 0.09301452],\n",
       "       [ 0.08960284],\n",
       "       [ 0.07141729],\n",
       "       [ 0.05662818],\n",
       "       [ 0.04728908],\n",
       "       [ 0.06584521],\n",
       "       [ 0.03808007],\n",
       "       [ 0.09697145],\n",
       "       [ 0.04847784],\n",
       "       [ 0.08646552],\n",
       "       [ 0.1198234 ],\n",
       "       [ 0.11504415],\n",
       "       [ 0.12639485],\n",
       "       [ 0.10743384],\n",
       "       [ 0.10702689],\n",
       "       [ 0.15028037],\n",
       "       [ 0.15905628],\n",
       "       [ 0.13514438],\n",
       "       [ 0.13689946],\n",
       "       [ 0.12029119],\n",
       "       [ 0.09261326],\n",
       "       [ 0.08333068],\n",
       "       [ 0.08458458],\n",
       "       [ 0.07532663],\n",
       "       [ 0.084021  ],\n",
       "       [ 0.06133406],\n",
       "       [ 0.08219637],\n",
       "       [ 0.09896937],\n",
       "       [ 0.11374351],\n",
       "       [ 0.08060375],\n",
       "       [ 0.03832852],\n",
       "       [ 0.0392914 ],\n",
       "       [ 0.03918934],\n",
       "       [ 0.0437084 ],\n",
       "       [ 0.05698768],\n",
       "       [ 0.05755181],\n",
       "       [ 0.08021021],\n",
       "       [ 0.05800252],\n",
       "       [ 0.05312295],\n",
       "       [ 0.0509351 ],\n",
       "       [ 0.04694091],\n",
       "       [ 0.0218494 ],\n",
       "       [ 0.0140116 ],\n",
       "       [ 0.01135325],\n",
       "       [-0.02103949],\n",
       "       [ 0.00495491],\n",
       "       [ 0.0719544 ],\n",
       "       [ 0.05366817],\n",
       "       [ 0.08350049],\n",
       "       [ 0.07102507],\n",
       "       [ 0.07423676],\n",
       "       [ 0.09033063],\n",
       "       [ 0.1155391 ],\n",
       "       [ 0.13746296],\n",
       "       [ 0.17652151],\n",
       "       [ 0.2277368 ],\n",
       "       [ 0.16886279],\n",
       "       [ 0.17216286],\n",
       "       [ 0.15287855],\n",
       "       [ 0.1125164 ],\n",
       "       [ 0.16803217],\n",
       "       [ 0.15119824],\n",
       "       [ 0.13648076],\n",
       "       [ 0.13651222],\n",
       "       [ 0.1268106 ],\n",
       "       [ 0.10179892],\n",
       "       [ 0.15162355],\n",
       "       [ 0.18321343]], dtype=float32)"
      ]
     },
     "execution_count": 19,
     "metadata": {},
     "output_type": "execute_result"
    }
   ],
   "source": [
    "pred"
   ]
  },
  {
   "cell_type": "markdown",
   "metadata": {},
   "source": [
    "### plotting_close"
   ]
  },
  {
   "cell_type": "code",
   "execution_count": 20,
   "metadata": {},
   "outputs": [],
   "source": [
    "import matplotlib.pyplot as plt"
   ]
  },
  {
   "cell_type": "code",
   "execution_count": 21,
   "metadata": {},
   "outputs": [
    {
     "data": {
      "text/plain": [
       "array([0.17139614, 0.19139298, 0.20967742, 0.2       , 0.2260274 ,\n",
       "       0.23699422, 0.21315193, 0.13785558, 0.10151188, 0.10021322])"
      ]
     },
     "execution_count": 21,
     "metadata": {},
     "output_type": "execute_result"
    }
   ],
   "source": [
    "yTest[:10]"
   ]
  },
  {
   "cell_type": "code",
   "execution_count": 22,
   "metadata": {},
   "outputs": [
    {
     "data": {
      "image/png": "[encoded data removed]",
      "text/plain": [
       "<Figure size 432x288 with 1 Axes>"
      ]
     },
     "metadata": {},
     "output_type": "display_data"
    }
   ],
   "source": [
    "fig = plt.figure(facecolor='white')\n",
    "ax = fig.add_subplot(111)\n",
    "ax.plot(yTest[:20], label='True')\n",
    "ax.plot(pred[:20], label='Prediction')\n",
    "ax.legend()\n",
    "plt.show()"
   ]
  },
  {
   "cell_type": "code",
   "execution_count": 78,
   "metadata": {},
   "outputs": [],
   "source": [
    "row = int(round(result.shape[0]*0.9))"
   ]
  },
  {
   "cell_type": "code",
   "execution_count": 79,
   "metadata": {},
   "outputs": [],
   "source": [
    "real = []\n",
    "predict = []\n",
    "for i in range(len(yTest)-1):\n",
    "    real.append(df[row:]['Close'].values[i]*(1+yTest[i]))\n",
    "    predict.append(df[row:]['Close'].values[i]*(1+pred[i])[0])"
   ]
  },
  {
   "cell_type": "code",
   "execution_count": 80,
   "metadata": {},
   "outputs": [
    {
     "data": {
      "image/png": "[encoded data removed]",
      "text/plain": [
       "<Figure size 432x288 with 1 Axes>"
      ]
     },
     "metadata": {},
     "output_type": "display_data"
    }
   ],
   "source": [
    "fig = plt.figure(facecolor='white')\n",
    "ax = fig.add_subplot(111)\n",
    "ax.plot(real[110:120], label='True')\n",
    "ax.plot(predict[110:120], label='Prediction')\n",
    "ax.legend()\n",
    "plt.show()"
   ]
  },
  {
   "cell_type": "markdown",
   "metadata": {},
   "source": [
    "잘 적합하는것같지만 그냥 하루 밀린 그래프<br>\n",
    "-> close가 아닌 change로"
   ]
  },
  {
   "cell_type": "markdown",
   "metadata": {},
   "source": [
    "### modeling_change\n",
    "종가(Close)가 아닌 변화량(Change) 예측"
   ]
  },
  {
   "cell_type": "code",
   "execution_count": 83,
   "metadata": {},
   "outputs": [],
   "source": [
    "#정규화 뺀 부분\n",
    "def prepro2(df, colname):\n",
    "    seqLen = 50\n",
    "    seqLength = seqLen + 1\n",
    "    result = []\n",
    "    for idx in range(len(df)-seqLength):\n",
    "        result.append(df[colname][idx:idx+seqLength]) # window is 50\n",
    "\n",
    "    return(np.array(result))"
   ]
  },
  {
   "cell_type": "code",
   "execution_count": 84,
   "metadata": {},
   "outputs": [],
   "source": [
    "result = prepro2(df,\"Change\")"
   ]
  },
  {
   "cell_type": "code",
   "execution_count": 85,
   "metadata": {},
   "outputs": [],
   "source": [
    "xTrain, yTrain, xTest, yTest =splitTT(result)"
   ]
  },
  {
   "cell_type": "code",
   "execution_count": 86,
   "metadata": {},
   "outputs": [],
   "source": [
    "model = Sequential()\n",
    "model.add(LSTM(50,return_sequences=True, input_shape = (50,1)))\n",
    "model.add(LSTM(64, return_sequences = False))\n",
    "model.add(Dense(1,activation = 'linear'))\n",
    "model.compile(loss='mse',optimizer ='rmsprop')"
   ]
  },
  {
   "cell_type": "code",
   "execution_count": 87,
   "metadata": {},
   "outputs": [
    {
     "name": "stdout",
     "output_type": "stream",
     "text": [
      "Epoch 1/7\n",
      "117/117 [==============================] - 4s 36ms/step - loss: 3.3891e-04\n",
      "Epoch 2/7\n",
      "117/117 [==============================] - 4s 31ms/step - loss: 2.9824e-04\n",
      "Epoch 3/7\n",
      "117/117 [==============================] - 4s 34ms/step - loss: 2.9651e-04\n",
      "Epoch 4/7\n",
      "117/117 [==============================] - 5s 47ms/step - loss: 2.9403e-04\n",
      "Epoch 5/7\n",
      "117/117 [==============================] - 4s 33ms/step - loss: 2.9460e-04\n",
      "Epoch 6/7\n",
      "117/117 [==============================] - 4s 36ms/step - loss: 2.9255e-04\n",
      "Epoch 7/7\n",
      "117/117 [==============================] - 6s 53ms/step - loss: 2.9301e-04\n"
     ]
    },
    {
     "data": {
      "text/plain": [
       "<tensorflow.python.keras.callbacks.History at 0x7fb2601c64d0>"
      ]
     },
     "execution_count": 87,
     "metadata": {},
     "output_type": "execute_result"
    }
   ],
   "source": [
    "model.fit(xTrain,yTrain, batch_size = 20, epochs=7)"
   ]
  },
  {
   "cell_type": "code",
   "execution_count": 88,
   "metadata": {},
   "outputs": [],
   "source": [
    "pred = model.predict(xTest)"
   ]
  },
  {
   "cell_type": "code",
   "execution_count": 89,
   "metadata": {},
   "outputs": [
    {
     "data": {
      "image/png": "[encoded data removed]",
      "text/plain": [
       "<Figure size 432x288 with 1 Axes>"
      ]
     },
     "metadata": {},
     "output_type": "display_data"
    }
   ],
   "source": [
    "fig = plt.figure(facecolor='white')\n",
    "ax = fig.add_subplot(111)\n",
    "ax.plot(yTest, label='True')\n",
    "ax.plot(pred, label='Prediction')\n",
    "ax.legend()\n",
    "plt.show()"
   ]
  },
  {
   "cell_type": "markdown",
   "metadata": {},
   "source": [
    "too bad - 거의 0에 수렴"
   ]
  }
 ],
 "metadata": {
  "kernelspec": {
   "display_name": "py37",
   "language": "python",
   "name": "py37"
  },
  "language_info": {
   "codemirror_mode": {
    "name": "ipython",
    "version": 3
   },
   "file_extension": ".py",
   "mimetype": "text/x-python",
   "name": "python",
   "nbconvert_exporter": "python",
   "pygments_lexer": "ipython3",
   "version": "3.7.6"
  }
 },
 "nbformat": 4,
 "nbformat_minor": 2
}
